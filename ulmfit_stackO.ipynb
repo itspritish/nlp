{
  "nbformat": 4,
  "nbformat_minor": 0,
  "metadata": {
    "kernelspec": {
      "name": "python3",
      "display_name": "Python 3"
    },
    "language_info": {
      "codemirror_mode": {
        "name": "ipython",
        "version": 3
      },
      "file_extension": ".py",
      "mimetype": "text/x-python",
      "name": "python",
      "nbconvert_exporter": "python",
      "pygments_lexer": "ipython3",
      "version": "3.7.4"
    },
    "varInspector": {
      "cols": {
        "lenName": 16,
        "lenType": 16,
        "lenVar": 40
      },
      "kernels_config": {
        "python": {
          "delete_cmd_postfix": "",
          "delete_cmd_prefix": "del ",
          "library": "var_list.py",
          "varRefreshCmd": "print(var_dic_list())"
        },
        "r": {
          "delete_cmd_postfix": ") ",
          "delete_cmd_prefix": "rm(",
          "library": "var_list.r",
          "varRefreshCmd": "cat(var_dic_list()) "
        }
      },
      "types_to_exclude": [
        "module",
        "function",
        "builtin_function_or_method",
        "instance",
        "_Feature"
      ],
      "window_display": false
    },
    "colab": {
      "name": "ulmfit-stackO.ipynb",
      "version": "0.3.2",
      "provenance": [],
      "collapsed_sections": [],
      "include_colab_link": true
    },
    "accelerator": "GPU"
  },
  "cells": [
    {
      "cell_type": "markdown",
      "metadata": {
        "id": "view-in-github",
        "colab_type": "text"
      },
      "source": [
        "<a href=\"https://colab.research.google.com/github/itspritish/Abstractive-Summarization-With-Transfer-Learning/blob/master/ulmfit_stackO.ipynb\" target=\"_parent\"><img src=\"https://colab.research.google.com/assets/colab-badge.svg\" alt=\"Open In Colab\"/></a>"
      ]
    },
    {
      "cell_type": "code",
      "metadata": {
        "id": "e66XhIVegyOR",
        "colab_type": "code",
        "colab": {}
      },
      "source": [
        "from fastai.text import *\n",
        "import pandas as pd\n",
        "import numpy as np"
      ],
      "execution_count": 0,
      "outputs": []
    },
    {
      "cell_type": "code",
      "metadata": {
        "id": "qTipGS9khvdx",
        "colab_type": "code",
        "outputId": "31cfd34b-7dc8-4a82-8364-8336a536a70b",
        "colab": {
          "base_uri": "https://localhost:8080/",
          "height": 306
        }
      },
      "source": [
        "!nvidia-smi"
      ],
      "execution_count": 0,
      "outputs": [
        {
          "output_type": "stream",
          "text": [
            "Fri Aug 16 10:44:54 2019       \n",
            "+-----------------------------------------------------------------------------+\n",
            "| NVIDIA-SMI 418.67       Driver Version: 410.79       CUDA Version: 10.0     |\n",
            "|-------------------------------+----------------------+----------------------+\n",
            "| GPU  Name        Persistence-M| Bus-Id        Disp.A | Volatile Uncorr. ECC |\n",
            "| Fan  Temp  Perf  Pwr:Usage/Cap|         Memory-Usage | GPU-Util  Compute M. |\n",
            "|===============================+======================+======================|\n",
            "|   0  Tesla T4            Off  | 00000000:00:04.0 Off |                    0 |\n",
            "| N/A   57C    P8    16W /  70W |     10MiB / 15079MiB |      0%      Default |\n",
            "+-------------------------------+----------------------+----------------------+\n",
            "                                                                               \n",
            "+-----------------------------------------------------------------------------+\n",
            "| Processes:                                                       GPU Memory |\n",
            "|  GPU       PID   Type   Process name                             Usage      |\n",
            "|=============================================================================|\n",
            "|  No running processes found                                                 |\n",
            "+-----------------------------------------------------------------------------+\n"
          ],
          "name": "stdout"
        }
      ]
    },
    {
      "cell_type": "code",
      "metadata": {
        "id": "i3MqrpEAgyOn",
        "colab_type": "code",
        "outputId": "77edef05-d810-4203-9e4e-a8c9cd2c84b7",
        "colab": {
          "base_uri": "https://localhost:8080/",
          "height": 408
        }
      },
      "source": [
        "!wget https://storage.googleapis.com/tensorflow-workshop-examples/stack-overflow-data.csv\n",
        "df = pd.read_csv('stack-overflow-data.csv')\n",
        "print('Length of dataset: '+str(len(df.index)))\n",
        "df.head()"
      ],
      "execution_count": 0,
      "outputs": [
        {
          "output_type": "stream",
          "text": [
            "--2019-08-16 10:45:48--  https://storage.googleapis.com/tensorflow-workshop-examples/stack-overflow-data.csv\n",
            "Resolving storage.googleapis.com (storage.googleapis.com)... 74.125.142.128, 2607:f8b0:400e:c09::80\n",
            "Connecting to storage.googleapis.com (storage.googleapis.com)|74.125.142.128|:443... connected.\n",
            "HTTP request sent, awaiting response... 200 OK\n",
            "Length: 44319561 (42M) [text/csv]\n",
            "Saving to: ‘stack-overflow-data.csv’\n",
            "\n",
            "\rstack-overflow-data   0%[                    ]       0  --.-KB/s               \rstack-overflow-data  23%[===>                ]   9.75M  48.7MB/s               \rstack-overflow-data 100%[===================>]  42.27M   123MB/s    in 0.3s    \n",
            "\n",
            "2019-08-16 10:45:49 (123 MB/s) - ‘stack-overflow-data.csv’ saved [44319561/44319561]\n",
            "\n",
            "Length of dataset: 40000\n"
          ],
          "name": "stdout"
        },
        {
          "output_type": "execute_result",
          "data": {
            "text/html": [
              "<div>\n",
              "<style scoped>\n",
              "    .dataframe tbody tr th:only-of-type {\n",
              "        vertical-align: middle;\n",
              "    }\n",
              "\n",
              "    .dataframe tbody tr th {\n",
              "        vertical-align: top;\n",
              "    }\n",
              "\n",
              "    .dataframe thead th {\n",
              "        text-align: right;\n",
              "    }\n",
              "</style>\n",
              "<table border=\"1\" class=\"dataframe\">\n",
              "  <thead>\n",
              "    <tr style=\"text-align: right;\">\n",
              "      <th></th>\n",
              "      <th>post</th>\n",
              "      <th>tags</th>\n",
              "    </tr>\n",
              "  </thead>\n",
              "  <tbody>\n",
              "    <tr>\n",
              "      <th>0</th>\n",
              "      <td>what is causing this behavior  in our c# datet...</td>\n",
              "      <td>c#</td>\n",
              "    </tr>\n",
              "    <tr>\n",
              "      <th>1</th>\n",
              "      <td>have dynamic html load as if it was in an ifra...</td>\n",
              "      <td>asp.net</td>\n",
              "    </tr>\n",
              "    <tr>\n",
              "      <th>2</th>\n",
              "      <td>how to convert a float value in to min:sec  i ...</td>\n",
              "      <td>objective-c</td>\n",
              "    </tr>\n",
              "    <tr>\n",
              "      <th>3</th>\n",
              "      <td>.net framework 4 redistributable  just wonderi...</td>\n",
              "      <td>.net</td>\n",
              "    </tr>\n",
              "    <tr>\n",
              "      <th>4</th>\n",
              "      <td>trying to calculate and print the mean and its...</td>\n",
              "      <td>python</td>\n",
              "    </tr>\n",
              "  </tbody>\n",
              "</table>\n",
              "</div>"
            ],
            "text/plain": [
              "                                                post         tags\n",
              "0  what is causing this behavior  in our c# datet...           c#\n",
              "1  have dynamic html load as if it was in an ifra...      asp.net\n",
              "2  how to convert a float value in to min:sec  i ...  objective-c\n",
              "3  .net framework 4 redistributable  just wonderi...         .net\n",
              "4  trying to calculate and print the mean and its...       python"
            ]
          },
          "metadata": {
            "tags": []
          },
          "execution_count": 3
        }
      ]
    },
    {
      "cell_type": "code",
      "metadata": {
        "id": "FKzuGgQCoKIm",
        "colab_type": "code",
        "colab": {}
      },
      "source": [
        "unq_tags = df['tags'].unique().tolist()\n",
        "#filter any mention of the tags present in the text\n",
        "df['post'] = df['post'].apply(lambda x: \" \".join([word for word in x.split() if word not in unq_tags]))"
      ],
      "execution_count": 0,
      "outputs": []
    },
    {
      "cell_type": "code",
      "metadata": {
        "id": "E8isM5Uxe6_z",
        "colab_type": "code",
        "outputId": "1b1cb205-b7eb-459d-ac3a-0bedea22e2fd",
        "colab": {
          "base_uri": "https://localhost:8080/",
          "height": 357
        }
      },
      "source": [
        "unq_tags"
      ],
      "execution_count": 0,
      "outputs": [
        {
          "output_type": "execute_result",
          "data": {
            "text/plain": [
              "['c#',\n",
              " 'asp.net',\n",
              " 'objective-c',\n",
              " '.net',\n",
              " 'python',\n",
              " 'angularjs',\n",
              " 'iphone',\n",
              " 'ruby-on-rails',\n",
              " 'ios',\n",
              " 'c',\n",
              " 'sql',\n",
              " 'java',\n",
              " 'jquery',\n",
              " 'css',\n",
              " 'c++',\n",
              " 'php',\n",
              " 'android',\n",
              " 'mysql',\n",
              " 'javascript',\n",
              " 'html']"
            ]
          },
          "metadata": {
            "tags": []
          },
          "execution_count": 34
        }
      ]
    },
    {
      "cell_type": "code",
      "metadata": {
        "id": "HoWHl52gpFg2",
        "colab_type": "code",
        "outputId": "886e3d68-a4c7-42d2-d93c-89cb8325450a",
        "colab": {
          "base_uri": "https://localhost:8080/",
          "height": 85
        }
      },
      "source": [
        "df['post'].head(3)"
      ],
      "execution_count": 0,
      "outputs": [
        {
          "output_type": "execute_result",
          "data": {
            "text/plain": [
              "0    what is causing this behavior in our datetime ...\n",
              "1    have dynamic load as if it was in an iframe i ...\n",
              "2    how to convert a float value in to min:sec i m...\n",
              "Name: post, dtype: object"
            ]
          },
          "metadata": {
            "tags": []
          },
          "execution_count": 5
        }
      ]
    },
    {
      "cell_type": "code",
      "metadata": {
        "id": "bBz8tmetgyO9",
        "colab_type": "code",
        "outputId": "57e606b5-234d-45b7-d68a-d8aef318604d",
        "colab": {
          "base_uri": "https://localhost:8080/",
          "height": 34
        }
      },
      "source": [
        "from sklearn.model_selection import train_test_split\n",
        "\n",
        "df_trn, df_val = train_test_split(df, stratify = df['tags'], test_size = 0.2)\n",
        "\n",
        "df_trn.shape, df_val.shape"
      ],
      "execution_count": 0,
      "outputs": [
        {
          "output_type": "execute_result",
          "data": {
            "text/plain": [
              "((32000, 2), (8000, 2))"
            ]
          },
          "metadata": {
            "tags": []
          },
          "execution_count": 6
        }
      ]
    },
    {
      "cell_type": "code",
      "metadata": {
        "scrolled": true,
        "id": "utK2CxNpgyPT",
        "colab_type": "code",
        "colab": {}
      },
      "source": [
        "# Language model data\n",
        "data_lm = TextLMDataBunch.from_df(train_df = df_trn, valid_df = df_val, path = \"\", text_cols='post', label_cols='tags')\n",
        "\n",
        "# Classifier model data\n",
        "data_clas = TextClasDataBunch.from_df(train_df = df_trn, valid_df = df_val, path = \"\", vocab=data_lm.train_ds.vocab, bs=32,\n",
        "                                     text_cols='post', label_cols='tags')"
      ],
      "execution_count": 0,
      "outputs": []
    },
    {
      "cell_type": "code",
      "metadata": {
        "id": "fSGfPdDUgyPv",
        "colab_type": "code",
        "outputId": "b6227824-6afa-4a72-c852-62b44d8004db",
        "colab": {
          "base_uri": "https://localhost:8080/",
          "height": 289
        }
      },
      "source": [
        "data_clas.show_batch()"
      ],
      "execution_count": 0,
      "outputs": [
        {
          "output_type": "display_data",
          "data": {
            "text/html": [
              "<table border=\"1\" class=\"dataframe\">\n",
              "  <thead>\n",
              "    <tr style=\"text-align: right;\">\n",
              "      <th>text</th>\n",
              "      <th>target</th>\n",
              "    </tr>\n",
              "  </thead>\n",
              "  <tbody>\n",
              "    <tr>\n",
              "      <td>xxbos error in program how to solve below error ... fatal error c1083 : can not open include file : xxunk : no such file or directory is there a alternative for xxunk file below is the code : / / xxunk : defines the entry point for the console application . / / &lt; pre&gt;&lt;code &gt; # include stdafx.h # include xxunk # include xxunk # include stdlib.h #</td>\n",
              "      <td>c++</td>\n",
              "    </tr>\n",
              "    <tr>\n",
              "      <td>xxbos dropdown submenu in sidebar doesn t drop so i m trying to create a sidebar that has a dropdown submenu and it s been three days and i still can t tell what is creating the xxunk in my dropdown submenu . can someone be so kind to correct my code ( sorry it s a mess . my brain is currently like that atm . ) the problem</td>\n",
              "      <td>css</td>\n",
              "    </tr>\n",
              "    <tr>\n",
              "      <td>xxbos links in ie have strange behavior at the top of my web page i have some text links formatted by css . in chrome and firefox they behave properly ; in ie when each link is clicked the formatting changes and the text links get slightly larger ; moving the links over to the right . if you click a few links the last link gets bumped down to</td>\n",
              "      <td>css</td>\n",
              "    </tr>\n",
              "    <tr>\n",
              "      <td>xxbos how to make button visible i have made a button by default invisible by customizing code . but now my problem is i ca nt make the button visible ! the thing i want is that when user log in means the log out button should be visible . how can i do it using netbeans can any1 help me i m new in gui . what condition should</td>\n",
              "      <td>java</td>\n",
              "    </tr>\n",
              "    <tr>\n",
              "      <td>xxbos trying to validate the form in angular js i was trying to validate fields of a form in but it shows the error - message with out clicking the button . i can t figure out what is the problem in my code . when i click on button i will display the error message but the problem is its shows error message on page load my code is</td>\n",
              "      <td>angularjs</td>\n",
              "    </tr>\n",
              "  </tbody>\n",
              "</table>"
            ],
            "text/plain": [
              "<IPython.core.display.HTML object>"
            ]
          },
          "metadata": {
            "tags": []
          }
        }
      ]
    },
    {
      "cell_type": "code",
      "metadata": {
        "id": "M-liKJOHgyQA",
        "colab_type": "code",
        "colab": {}
      },
      "source": [
        "data_lm.save('data_lm_export.pkl')\n",
        "data_clas.save('data_clas_export.pkl')"
      ],
      "execution_count": 0,
      "outputs": []
    },
    {
      "cell_type": "code",
      "metadata": {
        "id": "Eael2ZRRgyQQ",
        "colab_type": "code",
        "colab": {}
      },
      "source": [
        "learn = language_model_learner(data_lm, AWD_LSTM, drop_mult=0.3)"
      ],
      "execution_count": 0,
      "outputs": []
    },
    {
      "cell_type": "code",
      "metadata": {
        "id": "gCKoj4bdgyQd",
        "colab_type": "code",
        "outputId": "c5841697-ea7c-4356-fb57-a346c6c67ccc",
        "colab": {
          "base_uri": "https://localhost:8080/",
          "height": 334
        }
      },
      "source": [
        "learn.lr_find()\n",
        "learn.recorder.plot(suggestion=True)\n",
        "min_grad_lr = learn.recorder.min_grad_lr"
      ],
      "execution_count": 0,
      "outputs": [
        {
          "output_type": "display_data",
          "data": {
            "text/html": [
              ""
            ],
            "text/plain": [
              "<IPython.core.display.HTML object>"
            ]
          },
          "metadata": {
            "tags": []
          }
        },
        {
          "output_type": "stream",
          "text": [
            "LR Finder is complete, type {learner_name}.recorder.plot() to see the graph.\n",
            "Min numerical gradient: 5.75E-02\n",
            "Min loss divided by 10: 5.25E-02\n"
          ],
          "name": "stdout"
        },
        {
          "output_type": "display_data",
          "data": {
            "image/png": "[encoded data removed]",
            "text/plain": [
              "<Figure size 432x288 with 1 Axes>"
            ]
          },
          "metadata": {
            "tags": []
          }
        }
      ]
    },
    {
      "cell_type": "code",
      "metadata": {
        "id": "SXnYThDDgyQu",
        "colab_type": "code",
        "outputId": "96c793f8-19db-4990-b6a1-4038a8d27bc3",
        "colab": {
          "base_uri": "https://localhost:8080/",
          "height": 126
        }
      },
      "source": [
        "learn.fit_one_cycle(2, min_grad_lr)"
      ],
      "execution_count": 0,
      "outputs": [
        {
          "output_type": "display_data",
          "data": {
            "text/html": [
              "<table border=\"1\" class=\"dataframe\">\n",
              "  <thead>\n",
              "    <tr style=\"text-align: left;\">\n",
              "      <th>epoch</th>\n",
              "      <th>train_loss</th>\n",
              "      <th>valid_loss</th>\n",
              "      <th>accuracy</th>\n",
              "      <th>time</th>\n",
              "    </tr>\n",
              "  </thead>\n",
              "  <tbody>\n",
              "    <tr>\n",
              "      <td>0</td>\n",
              "      <td>4.283496</td>\n",
              "      <td>3.862122</td>\n",
              "      <td>0.363712</td>\n",
              "      <td>10:34</td>\n",
              "    </tr>\n",
              "    <tr>\n",
              "      <td>1</td>\n",
              "      <td>3.861714</td>\n",
              "      <td>3.450600</td>\n",
              "      <td>0.398892</td>\n",
              "      <td>10:39</td>\n",
              "    </tr>\n",
              "  </tbody>\n",
              "</table>"
            ],
            "text/plain": [
              "<IPython.core.display.HTML object>"
            ]
          },
          "metadata": {
            "tags": []
          }
        }
      ]
    },
    {
      "cell_type": "code",
      "metadata": {
        "id": "dh-9tFamgyQ8",
        "colab_type": "code",
        "outputId": "b1e02b1f-dd65-48ce-df67-47d232bb5a78",
        "colab": {
          "base_uri": "https://localhost:8080/",
          "height": 188
        }
      },
      "source": [
        "learn.unfreeze()\n",
        "learn.fit_one_cycle(4, 1e-3)"
      ],
      "execution_count": 0,
      "outputs": [
        {
          "output_type": "display_data",
          "data": {
            "text/html": [
              "<table border=\"1\" class=\"dataframe\">\n",
              "  <thead>\n",
              "    <tr style=\"text-align: left;\">\n",
              "      <th>epoch</th>\n",
              "      <th>train_loss</th>\n",
              "      <th>valid_loss</th>\n",
              "      <th>accuracy</th>\n",
              "      <th>time</th>\n",
              "    </tr>\n",
              "  </thead>\n",
              "  <tbody>\n",
              "    <tr>\n",
              "      <td>0</td>\n",
              "      <td>3.213615</td>\n",
              "      <td>3.118051</td>\n",
              "      <td>0.439212</td>\n",
              "      <td>12:03</td>\n",
              "    </tr>\n",
              "    <tr>\n",
              "      <td>1</td>\n",
              "      <td>3.044077</td>\n",
              "      <td>2.949927</td>\n",
              "      <td>0.462213</td>\n",
              "      <td>12:02</td>\n",
              "    </tr>\n",
              "    <tr>\n",
              "      <td>2</td>\n",
              "      <td>2.824342</td>\n",
              "      <td>2.864485</td>\n",
              "      <td>0.473670</td>\n",
              "      <td>12:03</td>\n",
              "    </tr>\n",
              "    <tr>\n",
              "      <td>3</td>\n",
              "      <td>2.669567</td>\n",
              "      <td>2.850125</td>\n",
              "      <td>0.476952</td>\n",
              "      <td>12:02</td>\n",
              "    </tr>\n",
              "  </tbody>\n",
              "</table>"
            ],
            "text/plain": [
              "<IPython.core.display.HTML object>"
            ]
          },
          "metadata": {
            "tags": []
          }
        }
      ]
    },
    {
      "cell_type": "code",
      "metadata": {
        "id": "NssLY6AKgyRR",
        "colab_type": "code",
        "outputId": "feda340e-c365-4bb5-9b02-c5d8a1f20e07",
        "colab": {
          "base_uri": "https://localhost:8080/",
          "height": 283
        }
      },
      "source": [
        "learn.predict(\"How to debug in\", n_words=6)"
      ],
      "execution_count": 0,
      "outputs": [
        {
          "output_type": "error",
          "ename": "TypeError",
          "evalue": "ignored",
          "traceback": [
            "\u001b[0;31m---------------------------------------------------------------------------\u001b[0m",
            "\u001b[0;31mTypeError\u001b[0m                                 Traceback (most recent call last)",
            "\u001b[0;32m<ipython-input-38-7bed32f9f01e>\u001b[0m in \u001b[0;36m<module>\u001b[0;34m()\u001b[0m\n\u001b[0;32m----> 1\u001b[0;31m \u001b[0mlearn\u001b[0m\u001b[0;34m.\u001b[0m\u001b[0mpredict\u001b[0m\u001b[0;34m(\u001b[0m\u001b[0;34m\"How to debug in\"\u001b[0m\u001b[0;34m,\u001b[0m \u001b[0mn_words\u001b[0m\u001b[0;34m=\u001b[0m\u001b[0;36m6\u001b[0m\u001b[0;34m)\u001b[0m\u001b[0;34m\u001b[0m\u001b[0;34m\u001b[0m\u001b[0m\n\u001b[0m",
            "\u001b[0;32m/usr/local/lib/python3.6/dist-packages/fastai/basic_train.py\u001b[0m in \u001b[0;36mpredict\u001b[0;34m(self, item, return_x, batch_first, with_dropout, **kwargs)\u001b[0m\n\u001b[1;32m    380\u001b[0m             \u001b[0;32mif\u001b[0m \u001b[0mnorm\u001b[0m\u001b[0;34m.\u001b[0m\u001b[0mkeywords\u001b[0m\u001b[0;34m.\u001b[0m\u001b[0mget\u001b[0m\u001b[0;34m(\u001b[0m\u001b[0;34m'do_y'\u001b[0m\u001b[0;34m,\u001b[0m\u001b[0;32mFalse\u001b[0m\u001b[0;34m)\u001b[0m\u001b[0;34m:\u001b[0m \u001b[0mraw_pred\u001b[0m \u001b[0;34m=\u001b[0m \u001b[0mself\u001b[0m\u001b[0;34m.\u001b[0m\u001b[0mdata\u001b[0m\u001b[0;34m.\u001b[0m\u001b[0mdenorm\u001b[0m\u001b[0;34m(\u001b[0m\u001b[0mraw_pred\u001b[0m\u001b[0;34m)\u001b[0m\u001b[0;34m\u001b[0m\u001b[0;34m\u001b[0m\u001b[0m\n\u001b[1;32m    381\u001b[0m         \u001b[0mds\u001b[0m \u001b[0;34m=\u001b[0m \u001b[0mself\u001b[0m\u001b[0;34m.\u001b[0m\u001b[0mdata\u001b[0m\u001b[0;34m.\u001b[0m\u001b[0msingle_ds\u001b[0m\u001b[0;34m\u001b[0m\u001b[0;34m\u001b[0m\u001b[0m\n\u001b[0;32m--> 382\u001b[0;31m         \u001b[0mpred\u001b[0m \u001b[0;34m=\u001b[0m \u001b[0mds\u001b[0m\u001b[0;34m.\u001b[0m\u001b[0my\u001b[0m\u001b[0;34m.\u001b[0m\u001b[0manalyze_pred\u001b[0m\u001b[0;34m(\u001b[0m\u001b[0mraw_pred\u001b[0m\u001b[0;34m,\u001b[0m \u001b[0;34m**\u001b[0m\u001b[0mkwargs\u001b[0m\u001b[0;34m)\u001b[0m\u001b[0;34m\u001b[0m\u001b[0;34m\u001b[0m\u001b[0m\n\u001b[0m\u001b[1;32m    383\u001b[0m         \u001b[0mx\u001b[0m \u001b[0;34m=\u001b[0m \u001b[0mds\u001b[0m\u001b[0;34m.\u001b[0m\u001b[0mx\u001b[0m\u001b[0;34m.\u001b[0m\u001b[0mreconstruct\u001b[0m\u001b[0;34m(\u001b[0m\u001b[0mgrab_idx\u001b[0m\u001b[0;34m(\u001b[0m\u001b[0mx\u001b[0m\u001b[0;34m,\u001b[0m \u001b[0;36m0\u001b[0m\u001b[0;34m)\u001b[0m\u001b[0;34m)\u001b[0m\u001b[0;34m\u001b[0m\u001b[0;34m\u001b[0m\u001b[0m\n\u001b[1;32m    384\u001b[0m         \u001b[0my\u001b[0m \u001b[0;34m=\u001b[0m \u001b[0mds\u001b[0m\u001b[0;34m.\u001b[0m\u001b[0my\u001b[0m\u001b[0;34m.\u001b[0m\u001b[0mreconstruct\u001b[0m\u001b[0;34m(\u001b[0m\u001b[0mpred\u001b[0m\u001b[0;34m,\u001b[0m \u001b[0mx\u001b[0m\u001b[0;34m)\u001b[0m \u001b[0;32mif\u001b[0m \u001b[0mhas_arg\u001b[0m\u001b[0;34m(\u001b[0m\u001b[0mds\u001b[0m\u001b[0;34m.\u001b[0m\u001b[0my\u001b[0m\u001b[0;34m.\u001b[0m\u001b[0mreconstruct\u001b[0m\u001b[0;34m,\u001b[0m \u001b[0;34m'x'\u001b[0m\u001b[0;34m)\u001b[0m \u001b[0;32melse\u001b[0m \u001b[0mds\u001b[0m\u001b[0;34m.\u001b[0m\u001b[0my\u001b[0m\u001b[0;34m.\u001b[0m\u001b[0mreconstruct\u001b[0m\u001b[0;34m(\u001b[0m\u001b[0mpred\u001b[0m\u001b[0;34m)\u001b[0m\u001b[0;34m\u001b[0m\u001b[0;34m\u001b[0m\u001b[0m\n",
            "\u001b[0;31mTypeError\u001b[0m: analyze_pred() got an unexpected keyword argument 'n_words'"
          ]
        }
      ]
    },
    {
      "cell_type": "code",
      "metadata": {
        "id": "CEuZAxWkgyRh",
        "colab_type": "code",
        "colab": {}
      },
      "source": [
        "learn.save_encoder('ft_enc')"
      ],
      "execution_count": 0,
      "outputs": []
    },
    {
      "cell_type": "code",
      "metadata": {
        "id": "BIWP0BJDgyRo",
        "colab_type": "code",
        "outputId": "1fafdad3-2a4f-444e-8f03-d60c9f8440a5",
        "colab": {
          "base_uri": "https://localhost:8080/",
          "height": 1000
        }
      },
      "source": [
        "learn = text_classifier_learner(data_clas, AWD_LSTM, drop_mult=0.5)\n",
        "learn.load_encoder('ft_enc')"
      ],
      "execution_count": 0,
      "outputs": [
        {
          "output_type": "execute_result",
          "data": {
            "text/plain": [
              "RNNLearner(data=TextClasDataBunch;\n",
              "\n",
              "Train: LabelList (32000 items)\n",
              "x: TextList\n",
              "xxbos is xxunk equal to -1 in cpp definitions < pre><code > int fdstring : : xxunk fdstring & & searchstring int rend ) const { return xxunk ) rend = = npos string::npos : rend ) ; } < / code > < / pre > here i have defined < pre><code > ifdef unicode # define string std::wstring # else # define string std::string # endif < / code > < / pre > i am sure std::string::npos is defined in cpp reference as -1 but in wstring i am not sure if its explicitly defined as -1 so can i assume xxunk is also -1,xxbos devise error messages i have the problem with devise : devise works well but in devise / registration / new.html.erb i have the next string < pre><code><%= devise_error_messages ! % > < / code > < / pre > that string forms error msg like - > < pre><code><div id= error_explanation > < xxunk errors prohibited this user from being saved : < / h2 > < ul > < li > email has already been taken < / li > < li > password can t be blank < / li > < li > phone is not a number < / li > < / ul > < / div > < / code > < / pre > the msg with all my errors formed on top of my form ( over the elements of my form ) how do i create an error message beside to the element which this error occurs something like this < pre><code><div > email < br / > * * < div class= email_error > xxrep 4 . < / div > * * < div class= field_with_errors > < input id= user_email xxrep 4 . / > < / div > < / div > < div > name < br / > * * < div class= xxunk > xxrep 4 . < / div > * * < div class= field_with_errors > < input id= user_name xxrep 4 . / > < / div > < / div > < / code > < / pre >,xxbos comparing a word in a list to a word in a file i m trying to write a program that loops through a list and checks a file to see if that word is in there . at first the file is read and then if a word is found it breaks out of that loop . with the remaining lines in the file after that word is found i want to compare with the list . the code below isn t working . it just breaks out of the loop and doesn t find the word . thanks for your assistance . < pre><code > def readfile ( ) : with open ( file.txt r ) as myfile : for line in myfile : if hello in line : break for word in mylist : if word in myfile : print(word + found ) < / code > < / pre >,xxbos how does istream::ignore ( ) work i ve been reading about istream::ignore ( ) < a href= http : / / www.cplusplus.com / reference / istream / istream / ignore / rel= nofollow > here < / a>. i think i get the main idea of the function it does but i ve seen some examples of < a href= http : / / en.cppreference.com / w / cpp / io / xxunk / ignore rel= nofollow > accepting only numeric input < / a > that uses this function and i m not sure why it works . why would this code ignore everything except numeric input < pre><code > # include < iostream > # include < sstream > # include < limits > int main ( ) { std::istringstream input ( 1 \n",
              "  some non - numeric input \n",
              "  2 \n",
              "  ) ; for ( ; ; ) { int n ; input > > n ; if ( xxunk ( ) || xxunk ( ) ) { break ; } else if ( xxunk ( ) ) { xxunk ( ) ; / / unset failbit xxunk ( ) \n",
              "  ) ; / / skip bad input } else { std::cout < < n < < \n",
              "  ; } } } < / code > < / pre > i had thought that istream::ignore ( ) would ignore any and all characters specified by a certain number until the delimiter ..,xxbos adding padding between cells in a video gallery i m trying to add padding between the videos in the following code . any pointers or tips : < div class= snippet data - lang= js data - hide= false data - console= true data - babel= false > < div class= snippet - code > < pre class= snippet - code - html lang - html prettyprint - override > < code><table width= 100 % ; > < tbody > < tr > < td align= left valign= top width= 50 % > < div style= left : 0 ; width : 100 % ; height : 0 ; position : relative ; padding - bottom : 56.2493 % ; > < iframe style= border : 0 ; top : 0 ; left : 0 ; width : 100 % ; height : 100 % ; position : absolute ; src= https : / / www.youtube.com / embed / xxunk rel=0&&&showinfo=0 width= 300 height= 150 scrolling= no allowfullscreen= allowfullscreen > < / iframe > < / div > < p style= text - align : center ; > battle of whitehall by < a href= http : / / www.rockinpaddy.com / > rockinpaddy < / a > london < / p > < / td > < td align= left valign= top width= 50 % > < div style= left : 0 ; width : 100 % ; height : 0 ; position : relative ; padding - bottom : 56.2493 % ; > < iframe style= border : 0 ; top : 0 ; left : 0 ; width : 100 % ; height : 100 % ; position : absolute ; src= https : / / www.youtube.com / embed / xxunk rel=0&&&showinfo=0 width= 300 height= 150 scrolling= no allowfullscreen= allowfullscreen > < / iframe > < / div > < p style= text - align : center ; > which side are you on by < a href= http : / / www.rockinpaddy.com / > rockinpaddy < / a > london < / p > < / td > < / tr > < / tbody > < / table > < / code > < / pre > < / div > < / div >\n",
              "y: CategoryList\n",
              "c++,ruby-on-rails,python,c++,html\n",
              "Path: .;\n",
              "\n",
              "Valid: LabelList (8000 items)\n",
              "x: TextList\n",
              "xxbos - xxunk type name < pre><code > # import < foundation / foundation.h > # import xxunk @interface xxunk : nsobject { nsfilemanager * filemanager ; bool xxunk ; bool xxunk ; bool xxunk ; xxunk * xxunk ; / / here xcode shows the error xxrep 5 ! } < / code > < / pre > i don t get any other error in the project but xcode can t find the type .,xxbos - searching 2 tables and returning results from one i currently have 2 tables for tickets . table 1 is tickets and table 2 is xxunk . i currently do < pre><code > select i d subject description from tickets where subject like % xxunk ; < / code > < / pre > this works but i also want to return the same fields but where hello matches the message field in the responses table . e.g. i was hoping i could do : < pre><code > select i d subject description from tickets responses where xxunk like % xxunk or xxunk like % xxunk ; < / code > < / pre > ticketid in the responses table is the same as i d in the tickets table .,xxbos grayscale image with colored border i need to put a set of b / w images with colored borders on the page . i don t want to edit the images in photoshop since there may be some dynamically added ones later on ; hence i ve used the corresponding < code > filter : xxunk % ) < / code>. < pre><code > xxunk { display : block ; position : relative ; border : 6px solid # xxunk ; width : 85 % ; margin : 0 auto ; -webkit - filter : xxunk % ) ; filter : xxunk % ) ; } < / code > < / pre > however it affects the colored border which also becomes xxunk . is there a xxunk workaround here,xxbos linking pages i have configured 4 virtual hosts on a debian box . the document root for the first virtual host is / var / www / first / . inside this directory i have the index.html . the other virtual hosts have different document roots like / var / www / second / etc . i have xxunk and soon for these virtual hosts . the index.html provides links to the xxunk . i am able to load the index.html but when i click on the link it never goes to the link . in the error log i can see that that it is trying to access the xxunk from / var / www / first / second . this is how i have tried to create a link . < pre><code > < a href = .. / second / xxunk > click here to go second < / a > < / code > < / pre >,xxbos query - some kind of select distinct suppose i have a log of customers who come in on particular days like : < pre><code > cs day -- --- 01 tue 02 tue 03 we d 01 we d 04 thu 02 thu < / code > < / pre > i need a query that returns only the # s of those customers who were in both on tue and on we d . in this case only cs # 01 .\n",
              "y: CategoryList\n",
              "objective-c,sql,css,html,sql\n",
              "Path: .;\n",
              "\n",
              "Test: None, model=SequentialRNN(\n",
              "  (0): MultiBatchEncoder(\n",
              "    (module): AWD_LSTM(\n",
              "      (encoder): Embedding(60000, 400, padding_idx=1)\n",
              "      (encoder_dp): EmbeddingDropout(\n",
              "        (emb): Embedding(60000, 400, padding_idx=1)\n",
              "      )\n",
              "      (rnns): ModuleList(\n",
              "        (0): WeightDropout(\n",
              "          (module): LSTM(400, 1152, batch_first=True)\n",
              "        )\n",
              "        (1): WeightDropout(\n",
              "          (module): LSTM(1152, 1152, batch_first=True)\n",
              "        )\n",
              "        (2): WeightDropout(\n",
              "          (module): LSTM(1152, 400, batch_first=True)\n",
              "        )\n",
              "      )\n",
              "      (input_dp): RNNDropout()\n",
              "      (hidden_dps): ModuleList(\n",
              "        (0): RNNDropout()\n",
              "        (1): RNNDropout()\n",
              "        (2): RNNDropout()\n",
              "      )\n",
              "    )\n",
              "  )\n",
              "  (1): PoolingLinearClassifier(\n",
              "    (layers): Sequential(\n",
              "      (0): BatchNorm1d(1200, eps=1e-05, momentum=0.1, affine=True, track_running_stats=True)\n",
              "      (1): Dropout(p=0.2)\n",
              "      (2): Linear(in_features=1200, out_features=50, bias=True)\n",
              "      (3): ReLU(inplace)\n",
              "      (4): BatchNorm1d(50, eps=1e-05, momentum=0.1, affine=True, track_running_stats=True)\n",
              "      (5): Dropout(p=0.1)\n",
              "      (6): Linear(in_features=50, out_features=20, bias=True)\n",
              "    )\n",
              "  )\n",
              "), opt_func=functools.partial(<class 'torch.optim.adam.Adam'>, betas=(0.9, 0.99)), loss_func=FlattenedLoss of CrossEntropyLoss(), metrics=[<function accuracy at 0x7ffa68251378>], true_wd=True, bn_wd=True, wd=0.01, train_bn=True, path=PosixPath('.'), model_dir='models', callback_fns=[functools.partial(<class 'fastai.basic_train.Recorder'>, add_time=True, silent=False)], callbacks=[RNNTrainer\n",
              "learn: RNNLearner(data=TextClasDataBunch;\n",
              "\n",
              "Train: LabelList (32000 items)\n",
              "x: TextList\n",
              "xxbos is xxunk equal to -1 in cpp definitions < pre><code > int fdstring : : xxunk fdstring & & searchstring int rend ) const { return xxunk ) rend = = npos string::npos : rend ) ; } < / code > < / pre > here i have defined < pre><code > ifdef unicode # define string std::wstring # else # define string std::string # endif < / code > < / pre > i am sure std::string::npos is defined in cpp reference as -1 but in wstring i am not sure if its explicitly defined as -1 so can i assume xxunk is also -1,xxbos devise error messages i have the problem with devise : devise works well but in devise / registration / new.html.erb i have the next string < pre><code><%= devise_error_messages ! % > < / code > < / pre > that string forms error msg like - > < pre><code><div id= error_explanation > < xxunk errors prohibited this user from being saved : < / h2 > < ul > < li > email has already been taken < / li > < li > password can t be blank < / li > < li > phone is not a number < / li > < / ul > < / div > < / code > < / pre > the msg with all my errors formed on top of my form ( over the elements of my form ) how do i create an error message beside to the element which this error occurs something like this < pre><code><div > email < br / > * * < div class= email_error > xxrep 4 . < / div > * * < div class= field_with_errors > < input id= user_email xxrep 4 . / > < / div > < / div > < div > name < br / > * * < div class= xxunk > xxrep 4 . < / div > * * < div class= field_with_errors > < input id= user_name xxrep 4 . / > < / div > < / div > < / code > < / pre >,xxbos comparing a word in a list to a word in a file i m trying to write a program that loops through a list and checks a file to see if that word is in there . at first the file is read and then if a word is found it breaks out of that loop . with the remaining lines in the file after that word is found i want to compare with the list . the code below isn t working . it just breaks out of the loop and doesn t find the word . thanks for your assistance . < pre><code > def readfile ( ) : with open ( file.txt r ) as myfile : for line in myfile : if hello in line : break for word in mylist : if word in myfile : print(word + found ) < / code > < / pre >,xxbos how does istream::ignore ( ) work i ve been reading about istream::ignore ( ) < a href= http : / / www.cplusplus.com / reference / istream / istream / ignore / rel= nofollow > here < / a>. i think i get the main idea of the function it does but i ve seen some examples of < a href= http : / / en.cppreference.com / w / cpp / io / xxunk / ignore rel= nofollow > accepting only numeric input < / a > that uses this function and i m not sure why it works . why would this code ignore everything except numeric input < pre><code > # include < iostream > # include < sstream > # include < limits > int main ( ) { std::istringstream input ( 1 \n",
              "  some non - numeric input \n",
              "  2 \n",
              "  ) ; for ( ; ; ) { int n ; input > > n ; if ( xxunk ( ) || xxunk ( ) ) { break ; } else if ( xxunk ( ) ) { xxunk ( ) ; / / unset failbit xxunk ( ) \n",
              "  ) ; / / skip bad input } else { std::cout < < n < < \n",
              "  ; } } } < / code > < / pre > i had thought that istream::ignore ( ) would ignore any and all characters specified by a certain number until the delimiter ..,xxbos adding padding between cells in a video gallery i m trying to add padding between the videos in the following code . any pointers or tips : < div class= snippet data - lang= js data - hide= false data - console= true data - babel= false > < div class= snippet - code > < pre class= snippet - code - html lang - html prettyprint - override > < code><table width= 100 % ; > < tbody > < tr > < td align= left valign= top width= 50 % > < div style= left : 0 ; width : 100 % ; height : 0 ; position : relative ; padding - bottom : 56.2493 % ; > < iframe style= border : 0 ; top : 0 ; left : 0 ; width : 100 % ; height : 100 % ; position : absolute ; src= https : / / www.youtube.com / embed / xxunk rel=0&&&showinfo=0 width= 300 height= 150 scrolling= no allowfullscreen= allowfullscreen > < / iframe > < / div > < p style= text - align : center ; > battle of whitehall by < a href= http : / / www.rockinpaddy.com / > rockinpaddy < / a > london < / p > < / td > < td align= left valign= top width= 50 % > < div style= left : 0 ; width : 100 % ; height : 0 ; position : relative ; padding - bottom : 56.2493 % ; > < iframe style= border : 0 ; top : 0 ; left : 0 ; width : 100 % ; height : 100 % ; position : absolute ; src= https : / / www.youtube.com / embed / xxunk rel=0&&&showinfo=0 width= 300 height= 150 scrolling= no allowfullscreen= allowfullscreen > < / iframe > < / div > < p style= text - align : center ; > which side are you on by < a href= http : / / www.rockinpaddy.com / > rockinpaddy < / a > london < / p > < / td > < / tr > < / tbody > < / table > < / code > < / pre > < / div > < / div >\n",
              "y: CategoryList\n",
              "c++,ruby-on-rails,python,c++,html\n",
              "Path: .;\n",
              "\n",
              "Valid: LabelList (8000 items)\n",
              "x: TextList\n",
              "xxbos - xxunk type name < pre><code > # import < foundation / foundation.h > # import xxunk @interface xxunk : nsobject { nsfilemanager * filemanager ; bool xxunk ; bool xxunk ; bool xxunk ; xxunk * xxunk ; / / here xcode shows the error xxrep 5 ! } < / code > < / pre > i don t get any other error in the project but xcode can t find the type .,xxbos - searching 2 tables and returning results from one i currently have 2 tables for tickets . table 1 is tickets and table 2 is xxunk . i currently do < pre><code > select i d subject description from tickets where subject like % xxunk ; < / code > < / pre > this works but i also want to return the same fields but where hello matches the message field in the responses table . e.g. i was hoping i could do : < pre><code > select i d subject description from tickets responses where xxunk like % xxunk or xxunk like % xxunk ; < / code > < / pre > ticketid in the responses table is the same as i d in the tickets table .,xxbos grayscale image with colored border i need to put a set of b / w images with colored borders on the page . i don t want to edit the images in photoshop since there may be some dynamically added ones later on ; hence i ve used the corresponding < code > filter : xxunk % ) < / code>. < pre><code > xxunk { display : block ; position : relative ; border : 6px solid # xxunk ; width : 85 % ; margin : 0 auto ; -webkit - filter : xxunk % ) ; filter : xxunk % ) ; } < / code > < / pre > however it affects the colored border which also becomes xxunk . is there a xxunk workaround here,xxbos linking pages i have configured 4 virtual hosts on a debian box . the document root for the first virtual host is / var / www / first / . inside this directory i have the index.html . the other virtual hosts have different document roots like / var / www / second / etc . i have xxunk and soon for these virtual hosts . the index.html provides links to the xxunk . i am able to load the index.html but when i click on the link it never goes to the link . in the error log i can see that that it is trying to access the xxunk from / var / www / first / second . this is how i have tried to create a link . < pre><code > < a href = .. / second / xxunk > click here to go second < / a > < / code > < / pre >,xxbos query - some kind of select distinct suppose i have a log of customers who come in on particular days like : < pre><code > cs day -- --- 01 tue 02 tue 03 we d 01 we d 04 thu 02 thu < / code > < / pre > i need a query that returns only the # s of those customers who were in both on tue and on we d . in this case only cs # 01 .\n",
              "y: CategoryList\n",
              "objective-c,sql,css,html,sql\n",
              "Path: .;\n",
              "\n",
              "Test: None, model=SequentialRNN(\n",
              "  (0): MultiBatchEncoder(\n",
              "    (module): AWD_LSTM(\n",
              "      (encoder): Embedding(60000, 400, padding_idx=1)\n",
              "      (encoder_dp): EmbeddingDropout(\n",
              "        (emb): Embedding(60000, 400, padding_idx=1)\n",
              "      )\n",
              "      (rnns): ModuleList(\n",
              "        (0): WeightDropout(\n",
              "          (module): LSTM(400, 1152, batch_first=True)\n",
              "        )\n",
              "        (1): WeightDropout(\n",
              "          (module): LSTM(1152, 1152, batch_first=True)\n",
              "        )\n",
              "        (2): WeightDropout(\n",
              "          (module): LSTM(1152, 400, batch_first=True)\n",
              "        )\n",
              "      )\n",
              "      (input_dp): RNNDropout()\n",
              "      (hidden_dps): ModuleList(\n",
              "        (0): RNNDropout()\n",
              "        (1): RNNDropout()\n",
              "        (2): RNNDropout()\n",
              "      )\n",
              "    )\n",
              "  )\n",
              "  (1): PoolingLinearClassifier(\n",
              "    (layers): Sequential(\n",
              "      (0): BatchNorm1d(1200, eps=1e-05, momentum=0.1, affine=True, track_running_stats=True)\n",
              "      (1): Dropout(p=0.2)\n",
              "      (2): Linear(in_features=1200, out_features=50, bias=True)\n",
              "      (3): ReLU(inplace)\n",
              "      (4): BatchNorm1d(50, eps=1e-05, momentum=0.1, affine=True, track_running_stats=True)\n",
              "      (5): Dropout(p=0.1)\n",
              "      (6): Linear(in_features=50, out_features=20, bias=True)\n",
              "    )\n",
              "  )\n",
              "), opt_func=functools.partial(<class 'torch.optim.adam.Adam'>, betas=(0.9, 0.99)), loss_func=FlattenedLoss of CrossEntropyLoss(), metrics=[<function accuracy at 0x7ffa68251378>], true_wd=True, bn_wd=True, wd=0.01, train_bn=True, path=PosixPath('.'), model_dir='models', callback_fns=[functools.partial(<class 'fastai.basic_train.Recorder'>, add_time=True, silent=False)], callbacks=[...], layer_groups=[Sequential(\n",
              "  (0): Embedding(60000, 400, padding_idx=1)\n",
              "  (1): EmbeddingDropout(\n",
              "    (emb): Embedding(60000, 400, padding_idx=1)\n",
              "  )\n",
              "), Sequential(\n",
              "  (0): WeightDropout(\n",
              "    (module): LSTM(400, 1152, batch_first=True)\n",
              "  )\n",
              "  (1): RNNDropout()\n",
              "), Sequential(\n",
              "  (0): WeightDropout(\n",
              "    (module): LSTM(1152, 1152, batch_first=True)\n",
              "  )\n",
              "  (1): RNNDropout()\n",
              "), Sequential(\n",
              "  (0): WeightDropout(\n",
              "    (module): LSTM(1152, 400, batch_first=True)\n",
              "  )\n",
              "  (1): RNNDropout()\n",
              "), Sequential(\n",
              "  (0): PoolingLinearClassifier(\n",
              "    (layers): Sequential(\n",
              "      (0): BatchNorm1d(1200, eps=1e-05, momentum=0.1, affine=True, track_running_stats=True)\n",
              "      (1): Dropout(p=0.2)\n",
              "      (2): Linear(in_features=1200, out_features=50, bias=True)\n",
              "      (3): ReLU(inplace)\n",
              "      (4): BatchNorm1d(50, eps=1e-05, momentum=0.1, affine=True, track_running_stats=True)\n",
              "      (5): Dropout(p=0.1)\n",
              "      (6): Linear(in_features=50, out_features=20, bias=True)\n",
              "    )\n",
              "  )\n",
              ")], add_time=True, silent=False, cb_fns_registered=False)\n",
              "alpha: 2.0\n",
              "beta: 1.0], layer_groups=[Sequential(\n",
              "  (0): Embedding(60000, 400, padding_idx=1)\n",
              "  (1): EmbeddingDropout(\n",
              "    (emb): Embedding(60000, 400, padding_idx=1)\n",
              "  )\n",
              "), Sequential(\n",
              "  (0): WeightDropout(\n",
              "    (module): LSTM(400, 1152, batch_first=True)\n",
              "  )\n",
              "  (1): RNNDropout()\n",
              "), Sequential(\n",
              "  (0): WeightDropout(\n",
              "    (module): LSTM(1152, 1152, batch_first=True)\n",
              "  )\n",
              "  (1): RNNDropout()\n",
              "), Sequential(\n",
              "  (0): WeightDropout(\n",
              "    (module): LSTM(1152, 400, batch_first=True)\n",
              "  )\n",
              "  (1): RNNDropout()\n",
              "), Sequential(\n",
              "  (0): PoolingLinearClassifier(\n",
              "    (layers): Sequential(\n",
              "      (0): BatchNorm1d(1200, eps=1e-05, momentum=0.1, affine=True, track_running_stats=True)\n",
              "      (1): Dropout(p=0.2)\n",
              "      (2): Linear(in_features=1200, out_features=50, bias=True)\n",
              "      (3): ReLU(inplace)\n",
              "      (4): BatchNorm1d(50, eps=1e-05, momentum=0.1, affine=True, track_running_stats=True)\n",
              "      (5): Dropout(p=0.1)\n",
              "      (6): Linear(in_features=50, out_features=20, bias=True)\n",
              "    )\n",
              "  )\n",
              ")], add_time=True, silent=False, cb_fns_registered=False)"
            ]
          },
          "metadata": {
            "tags": []
          },
          "execution_count": 19
        }
      ]
    },
    {
      "cell_type": "code",
      "metadata": {
        "id": "Zm7y1oF-gyRz",
        "colab_type": "code",
        "outputId": "0c73be73-c8fa-4d27-cf33-b8c2c7773e5d",
        "colab": {
          "base_uri": "https://localhost:8080/",
          "height": 334
        }
      },
      "source": [
        "learn.lr_find()\n",
        "learn.recorder.plot(suggestion=True)\n",
        "min_grad_lr = learn.recorder.min_grad_lr"
      ],
      "execution_count": 0,
      "outputs": [
        {
          "output_type": "display_data",
          "data": {
            "text/html": [
              ""
            ],
            "text/plain": [
              "<IPython.core.display.HTML object>"
            ]
          },
          "metadata": {
            "tags": []
          }
        },
        {
          "output_type": "stream",
          "text": [
            "LR Finder is complete, type {learner_name}.recorder.plot() to see the graph.\n",
            "Min numerical gradient: 6.92E-02\n",
            "Min loss divided by 10: 2.51E-02\n"
          ],
          "name": "stdout"
        },
        {
          "output_type": "display_data",
          "data": {
            "image/png": "[encoded data removed]",
            "text/plain": [
              "<Figure size 432x288 with 1 Axes>"
            ]
          },
          "metadata": {
            "tags": []
          }
        }
      ]
    },
    {
      "cell_type": "code",
      "metadata": {
        "id": "Y4nDKCRNgyR8",
        "colab_type": "code",
        "outputId": "f49e28fc-6b51-4ecb-a2be-06389460eba6",
        "colab": {
          "base_uri": "https://localhost:8080/",
          "height": 188
        }
      },
      "source": [
        "learn.fit_one_cycle(4, min_grad_lr)"
      ],
      "execution_count": 0,
      "outputs": [
        {
          "output_type": "display_data",
          "data": {
            "text/html": [
              "<table border=\"1\" class=\"dataframe\">\n",
              "  <thead>\n",
              "    <tr style=\"text-align: left;\">\n",
              "      <th>epoch</th>\n",
              "      <th>train_loss</th>\n",
              "      <th>valid_loss</th>\n",
              "      <th>accuracy</th>\n",
              "      <th>time</th>\n",
              "    </tr>\n",
              "  </thead>\n",
              "  <tbody>\n",
              "    <tr>\n",
              "      <td>0</td>\n",
              "      <td>1.550991</td>\n",
              "      <td>1.409898</td>\n",
              "      <td>0.567375</td>\n",
              "      <td>03:05</td>\n",
              "    </tr>\n",
              "    <tr>\n",
              "      <td>1</td>\n",
              "      <td>1.426139</td>\n",
              "      <td>1.702663</td>\n",
              "      <td>0.582750</td>\n",
              "      <td>03:02</td>\n",
              "    </tr>\n",
              "    <tr>\n",
              "      <td>2</td>\n",
              "      <td>1.317522</td>\n",
              "      <td>1.066740</td>\n",
              "      <td>0.639250</td>\n",
              "      <td>03:05</td>\n",
              "    </tr>\n",
              "    <tr>\n",
              "      <td>3</td>\n",
              "      <td>1.074878</td>\n",
              "      <td>1.045977</td>\n",
              "      <td>0.661250</td>\n",
              "      <td>03:06</td>\n",
              "    </tr>\n",
              "  </tbody>\n",
              "</table>"
            ],
            "text/plain": [
              "<IPython.core.display.HTML object>"
            ]
          },
          "metadata": {
            "tags": []
          }
        }
      ]
    },
    {
      "cell_type": "code",
      "metadata": {
        "id": "iYhhNdemgySE",
        "colab_type": "code",
        "outputId": "92c27e43-22e7-4170-d61a-47e8d6ee0a87",
        "colab": {
          "base_uri": "https://localhost:8080/",
          "height": 283
        }
      },
      "source": [
        "learn.recorder.plot_losses()"
      ],
      "execution_count": 0,
      "outputs": [
        {
          "output_type": "display_data",
          "data": {
            "image/png": "[encoded data removed]",
            "text/plain": [
              "<Figure size 432x288 with 1 Axes>"
            ]
          },
          "metadata": {
            "tags": []
          }
        }
      ]
    },
    {
      "cell_type": "code",
      "metadata": {
        "id": "uJJJ4WGbgySM",
        "colab_type": "code",
        "outputId": "018c17d8-5d42-434d-c690-4ddd5d28b58a",
        "colab": {
          "base_uri": "https://localhost:8080/",
          "height": 188
        }
      },
      "source": [
        "learn.freeze_to(-2)\n",
        "learn.fit_one_cycle(4, slice(5e-3, 2e-3), moms=(0.8,0.7))"
      ],
      "execution_count": 0,
      "outputs": [
        {
          "output_type": "display_data",
          "data": {
            "text/html": [
              "<table border=\"1\" class=\"dataframe\">\n",
              "  <thead>\n",
              "    <tr style=\"text-align: left;\">\n",
              "      <th>epoch</th>\n",
              "      <th>train_loss</th>\n",
              "      <th>valid_loss</th>\n",
              "      <th>accuracy</th>\n",
              "      <th>time</th>\n",
              "    </tr>\n",
              "  </thead>\n",
              "  <tbody>\n",
              "    <tr>\n",
              "      <td>0</td>\n",
              "      <td>1.129282</td>\n",
              "      <td>1.294093</td>\n",
              "      <td>0.679625</td>\n",
              "      <td>03:33</td>\n",
              "    </tr>\n",
              "    <tr>\n",
              "      <td>1</td>\n",
              "      <td>1.094504</td>\n",
              "      <td>0.865217</td>\n",
              "      <td>0.709375</td>\n",
              "      <td>03:33</td>\n",
              "    </tr>\n",
              "    <tr>\n",
              "      <td>2</td>\n",
              "      <td>1.004256</td>\n",
              "      <td>0.805289</td>\n",
              "      <td>0.720625</td>\n",
              "      <td>03:33</td>\n",
              "    </tr>\n",
              "    <tr>\n",
              "      <td>3</td>\n",
              "      <td>0.834177</td>\n",
              "      <td>0.792957</td>\n",
              "      <td>0.725750</td>\n",
              "      <td>03:34</td>\n",
              "    </tr>\n",
              "  </tbody>\n",
              "</table>"
            ],
            "text/plain": [
              "<IPython.core.display.HTML object>"
            ]
          },
          "metadata": {
            "tags": []
          }
        }
      ]
    },
    {
      "cell_type": "code",
      "metadata": {
        "id": "FI_-85mZgyST",
        "colab_type": "code",
        "outputId": "ffc1186e-b888-4559-cf66-7e1ee230adf4",
        "colab": {
          "base_uri": "https://localhost:8080/",
          "height": 283
        }
      },
      "source": [
        "learn.recorder.plot_losses()"
      ],
      "execution_count": 0,
      "outputs": [
        {
          "output_type": "display_data",
          "data": {
            "image/png": "[encoded data removed]",
            "text/plain": [
              "<Figure size 432x288 with 1 Axes>"
            ]
          },
          "metadata": {
            "tags": []
          }
        }
      ]
    },
    {
      "cell_type": "code",
      "metadata": {
        "id": "1CAapUpGgySa",
        "colab_type": "code",
        "outputId": "ec5ce2d7-f0bb-4679-e895-530aac067702",
        "colab": {
          "base_uri": "https://localhost:8080/",
          "height": 311
        }
      },
      "source": [
        "preds, y, losses = learn.get_preds(with_loss=True)\n",
        "interp = ClassificationInterpretation(learn, preds, y, losses)\n",
        "interp.plot_confusion_matrix()"
      ],
      "execution_count": 0,
      "outputs": [
        {
          "output_type": "display_data",
          "data": {
            "image/png": "[encoded data removed]",
            "text/plain": [
              "<Figure size 432x288 with 1 Axes>"
            ]
          },
          "metadata": {
            "tags": []
          }
        }
      ]
    },
    {
      "cell_type": "code",
      "metadata": {
        "id": "P78Yu9vegySo",
        "colab_type": "code",
        "outputId": "b82db5d4-8a23-4fd7-c42f-36c688555a53",
        "colab": {
          "base_uri": "https://localhost:8080/",
          "height": 1000
        }
      },
      "source": [
        "interp.most_confused()"
      ],
      "execution_count": 0,
      "outputs": [
        {
          "output_type": "execute_result",
          "data": {
            "text/plain": [
              "[('mysql', 'sql', 151),\n",
              " ('iphone', 'ios', 126),\n",
              " ('sql', 'mysql', 85),\n",
              " ('ios', 'objective-c', 81),\n",
              " ('ios', 'iphone', 65),\n",
              " ('css', 'html', 55),\n",
              " ('.net', 'c#', 54),\n",
              " ('iphone', 'objective-c', 48),\n",
              " ('html', 'css', 47),\n",
              " ('asp.net', 'c#', 43),\n",
              " ('c++', 'c', 43),\n",
              " ('.net', 'asp.net', 42),\n",
              " ('c#', 'java', 41),\n",
              " ('javascript', 'jquery', 39),\n",
              " ('objective-c', 'iphone', 39),\n",
              " ('android', 'ios', 31),\n",
              " ('java', 'c#', 31),\n",
              " ('c#', '.net', 30),\n",
              " ('objective-c', 'ios', 30),\n",
              " ('asp.net', '.net', 29),\n",
              " ('asp.net', 'html', 26),\n",
              " ('android', 'iphone', 25),\n",
              " ('iphone', 'android', 25),\n",
              " ('jquery', 'html', 24),\n",
              " ('c', 'c++', 23),\n",
              " ('java', '.net', 23),\n",
              " ('c#', 'asp.net', 21),\n",
              " ('javascript', 'html', 20),\n",
              " ('jquery', 'javascript', 20),\n",
              " ('ios', 'android', 19),\n",
              " ('html', 'javascript', 16),\n",
              " ('java', 'python', 16),\n",
              " ('java', 'c++', 14),\n",
              " ('.net', 'java', 13),\n",
              " ('html', 'jquery', 13),\n",
              " ('javascript', 'python', 13),\n",
              " ('php', 'html', 13),\n",
              " ('.net', 'html', 12),\n",
              " ('.net', 'python', 11),\n",
              " ('c#', 'javascript', 11),\n",
              " ('c++', 'c#', 11),\n",
              " ('html', 'asp.net', 11),\n",
              " ('php', 'javascript', 11),\n",
              " ('python', 'c', 11),\n",
              " ('python', 'php', 11),\n",
              " ('html', 'php', 10),\n",
              " ('javascript', '.net', 10),\n",
              " ('jquery', 'css', 10),\n",
              " ('.net', 'android', 9),\n",
              " ('c++', '.net', 9),\n",
              " ('c++', 'java', 9),\n",
              " ('ios', '.net', 9),\n",
              " ('java', 'android', 9),\n",
              " ('java', 'c', 9),\n",
              " ('objective-c', 'c', 9),\n",
              " ('php', 'asp.net', 9),\n",
              " ('php', 'python', 9),\n",
              " ('python', '.net', 9),\n",
              " ('.net', 'php', 8),\n",
              " ('c#', 'c', 8),\n",
              " ('c++', 'python', 8),\n",
              " ('jquery', 'asp.net', 8),\n",
              " ('mysql', 'php', 8),\n",
              " ('.net', 'ios', 7),\n",
              " ('android', 'c#', 7),\n",
              " ('asp.net', 'android', 7),\n",
              " ('asp.net', 'jquery', 7),\n",
              " ('iphone', '.net', 7),\n",
              " ('iphone', 'asp.net', 7),\n",
              " ('java', 'html', 7),\n",
              " ('.net', 'c', 6),\n",
              " ('.net', 'javascript', 6),\n",
              " ('.net', 'sql', 6),\n",
              " ('android', '.net', 6),\n",
              " ('android', 'java', 6),\n",
              " ('angularjs', 'javascript', 6),\n",
              " ('c#', 'android', 6),\n",
              " ('c#', 'iphone', 6),\n",
              " ('html', 'mysql', 6),\n",
              " ('javascript', 'php', 6),\n",
              " ('php', '.net', 6),\n",
              " ('sql', '.net', 6),\n",
              " ('.net', 'c++', 5),\n",
              " ('asp.net', 'javascript', 5),\n",
              " ('c', '.net', 5),\n",
              " ('html', 'android', 5),\n",
              " ('iphone', 'c', 5),\n",
              " ('javascript', 'asp.net', 5),\n",
              " ('jquery', 'angularjs', 5),\n",
              " ('mysql', '.net', 5),\n",
              " ('objective-c', 'android', 5),\n",
              " ('objective-c', 'python', 5),\n",
              " ('php', 'android', 5),\n",
              " ('ruby-on-rails', 'python', 5),\n",
              " ('android', 'asp.net', 4),\n",
              " ('angularjs', 'asp.net', 4),\n",
              " ('angularjs', 'html', 4),\n",
              " ('asp.net', 'mysql', 4),\n",
              " ('asp.net', 'php', 4),\n",
              " ('asp.net', 'sql', 4),\n",
              " ('c', 'python', 4),\n",
              " ('c#', 'c++', 4),\n",
              " ('c#', 'python', 4),\n",
              " ('c++', 'objective-c', 4),\n",
              " ('ios', 'html', 4),\n",
              " ('iphone', 'html', 4),\n",
              " ('javascript', 'android', 4),\n",
              " ('javascript', 'angularjs', 4),\n",
              " ('jquery', '.net', 4),\n",
              " ('objective-c', 'c++', 4),\n",
              " ('php', 'c#', 4),\n",
              " ('php', 'mysql', 4),\n",
              " ('.net', 'iphone', 3),\n",
              " ('.net', 'objective-c', 3),\n",
              " ('android', 'css', 3),\n",
              " ('android', 'html', 3),\n",
              " ('android', 'mysql', 3),\n",
              " ('angularjs', 'ios', 3),\n",
              " ('css', 'asp.net', 3),\n",
              " ('css', 'ios', 3),\n",
              " ('css', 'jquery', 3),\n",
              " ('html', 'iphone', 3),\n",
              " ('ios', 'python', 3),\n",
              " ('iphone', 'javascript', 3),\n",
              " ('iphone', 'python', 3),\n",
              " ('java', 'javascript', 3),\n",
              " ('java', 'sql', 3),\n",
              " ('javascript', 'c#', 3),\n",
              " ('javascript', 'css', 3),\n",
              " ('javascript', 'iphone', 3),\n",
              " ('mysql', 'html', 3),\n",
              " ('mysql', 'python', 3),\n",
              " ('objective-c', '.net', 3),\n",
              " ('objective-c', 'html', 3),\n",
              " ('php', 'angularjs', 3),\n",
              " ('php', 'c', 3),\n",
              " ('php', 'jquery', 3),\n",
              " ('python', 'android', 3),\n",
              " ('python', 'ios', 3),\n",
              " ('python', 'java', 3),\n",
              " ('python', 'javascript', 3),\n",
              " ('android', 'c', 2),\n",
              " ('angularjs', 'jquery', 2),\n",
              " ('angularjs', 'ruby-on-rails', 2),\n",
              " ('asp.net', 'iphone', 2),\n",
              " ('asp.net', 'java', 2),\n",
              " ('asp.net', 'ruby-on-rails', 2),\n",
              " ('c', 'c#', 2),\n",
              " ('c', 'java', 2),\n",
              " ('c#', 'php', 2),\n",
              " ('c++', 'iphone', 2),\n",
              " ('c++', 'php', 2),\n",
              " ('css', 'android', 2),\n",
              " ('css', 'angularjs', 2),\n",
              " ('css', 'c#', 2),\n",
              " ('css', 'javascript', 2),\n",
              " ('html', '.net', 2),\n",
              " ('html', 'c', 2),\n",
              " ('html', 'ios', 2),\n",
              " ('ios', 'angularjs', 2),\n",
              " ('ios', 'c', 2),\n",
              " ('ios', 'c#', 2),\n",
              " ('ios', 'php', 2),\n",
              " ('java', 'asp.net', 2),\n",
              " ('java', 'iphone', 2),\n",
              " ('javascript', 'c', 2),\n",
              " ('javascript', 'ios', 2),\n",
              " ('jquery', 'c#', 2),\n",
              " ('mysql', 'asp.net', 2),\n",
              " ('mysql', 'c#', 2),\n",
              " ('mysql', 'javascript', 2),\n",
              " ('mysql', 'jquery', 2),\n",
              " ('objective-c', 'java', 2),\n",
              " ('php', 'c++', 2),\n",
              " ('php', 'ruby-on-rails', 2),\n",
              " ('php', 'sql', 2),\n",
              " ('python', 'c#', 2),\n",
              " ('python', 'c++', 2),\n",
              " ('python', 'html', 2),\n",
              " ('python', 'mysql', 2),\n",
              " ('python', 'sql', 2),\n",
              " ('ruby-on-rails', '.net', 2),\n",
              " ('ruby-on-rails', 'asp.net', 2),\n",
              " ('ruby-on-rails', 'jquery', 2),\n",
              " ('sql', 'asp.net', 2),\n",
              " ('sql', 'c#', 2),\n",
              " ('sql', 'html', 2),\n",
              " ('sql', 'python', 2),\n",
              " ('.net', 'ruby-on-rails', 1),\n",
              " ('android', 'angularjs', 1),\n",
              " ('android', 'c++', 1),\n",
              " ('android', 'javascript', 1),\n",
              " ('android', 'php', 1),\n",
              " ('angularjs', '.net', 1),\n",
              " ('angularjs', 'android', 1),\n",
              " ('angularjs', 'c', 1),\n",
              " ('angularjs', 'iphone', 1),\n",
              " ('angularjs', 'php', 1),\n",
              " ('angularjs', 'python', 1),\n",
              " ('asp.net', 'angularjs', 1),\n",
              " ('asp.net', 'c', 1),\n",
              " ('asp.net', 'css', 1),\n",
              " ('asp.net', 'ios', 1),\n",
              " ('asp.net', 'python', 1),\n",
              " ('c', 'asp.net', 1),\n",
              " ('c', 'html', 1),\n",
              " ('c', 'iphone', 1),\n",
              " ('c', 'mysql', 1),\n",
              " ('c', 'objective-c', 1),\n",
              " ('c#', 'css', 1),\n",
              " ('c#', 'html', 1),\n",
              " ('c#', 'ios', 1),\n",
              " ('c#', 'objective-c', 1),\n",
              " ('c#', 'ruby-on-rails', 1),\n",
              " ('c++', 'android', 1),\n",
              " ('c++', 'css', 1),\n",
              " ('c++', 'javascript', 1),\n",
              " ('c++', 'sql', 1),\n",
              " ('css', '.net', 1),\n",
              " ('css', 'c++', 1),\n",
              " ('css', 'php', 1),\n",
              " ('html', 'angularjs', 1),\n",
              " ('html', 'c#', 1),\n",
              " ('html', 'python', 1),\n",
              " ('ios', 'c++', 1),\n",
              " ('ios', 'java', 1),\n",
              " ('ios', 'javascript', 1),\n",
              " ('iphone', 'angularjs', 1),\n",
              " ('iphone', 'c#', 1),\n",
              " ('iphone', 'c++', 1),\n",
              " ('iphone', 'java', 1),\n",
              " ('iphone', 'jquery', 1),\n",
              " ('iphone', 'php', 1),\n",
              " ('iphone', 'sql', 1),\n",
              " ('java', 'jquery', 1),\n",
              " ('java', 'objective-c', 1),\n",
              " ('java', 'php', 1),\n",
              " ('javascript', 'c++', 1),\n",
              " ('javascript', 'java', 1),\n",
              " ('javascript', 'sql', 1),\n",
              " ('jquery', 'ios', 1),\n",
              " ('jquery', 'iphone', 1),\n",
              " ('jquery', 'mysql', 1),\n",
              " ('jquery', 'php', 1),\n",
              " ('jquery', 'ruby-on-rails', 1),\n",
              " ('mysql', 'c++', 1),\n",
              " ('mysql', 'java', 1),\n",
              " ('objective-c', 'asp.net', 1),\n",
              " ('objective-c', 'c#', 1),\n",
              " ('objective-c', 'jquery', 1),\n",
              " ('php', 'css', 1),\n",
              " ('php', 'iphone', 1),\n",
              " ('php', 'java', 1),\n",
              " ('python', 'angularjs', 1),\n",
              " ('python', 'iphone', 1),\n",
              " ('python', 'jquery', 1),\n",
              " ('ruby-on-rails', 'angularjs', 1),\n",
              " ('ruby-on-rails', 'css', 1),\n",
              " ('ruby-on-rails', 'ios', 1),\n",
              " ('ruby-on-rails', 'mysql', 1),\n",
              " ('sql', 'android', 1),\n",
              " ('sql', 'ios', 1),\n",
              " ('sql', 'javascript', 1),\n",
              " ('sql', 'php', 1),\n",
              " ('sql', 'ruby-on-rails', 1)]"
            ]
          },
          "metadata": {
            "tags": []
          },
          "execution_count": 26
        }
      ]
    },
    {
      "cell_type": "code",
      "metadata": {
        "id": "9Jn1S6BhgyS4",
        "colab_type": "code",
        "outputId": "2102ca6d-8722-47d4-8b82-b9135588137b",
        "colab": {
          "base_uri": "https://localhost:8080/",
          "height": 102
        }
      },
      "source": [
        "learn.predict(\"Given a string as input, in main method print all its permutations in sorted order.\")"
      ],
      "execution_count": 0,
      "outputs": [
        {
          "output_type": "execute_result",
          "data": {
            "text/plain": [
              "(Category java,\n",
              " tensor(11),\n",
              " tensor([0.1098, 0.0518, 0.0084, 0.0601, 0.0914, 0.1938, 0.0201, 0.0010, 0.0127,\n",
              "         0.0061, 0.0061, 0.2237, 0.0468, 0.0180, 0.0048, 0.0035, 0.0474, 0.0850,\n",
              "         0.0052, 0.0044]))"
            ]
          },
          "metadata": {
            "tags": []
          },
          "execution_count": 44
        }
      ]
    },
    {
      "cell_type": "code",
      "metadata": {
        "id": "O6kkdUOhgyTP",
        "colab_type": "code",
        "colab": {}
      },
      "source": [
        "learn.export()"
      ],
      "execution_count": 0,
      "outputs": []
    }
  ]
}
