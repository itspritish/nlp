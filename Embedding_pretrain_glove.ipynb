{
  "nbformat": 4,
  "nbformat_minor": 0,
  "metadata": {
    "colab": {
      "name": "Embedding_pretrain_glove.ipynb",
      "version": "0.3.2",
      "provenance": [],
      "collapsed_sections": [],
      "include_colab_link": true
    },
    "kernelspec": {
      "name": "python3",
      "display_name": "Python 3"
    }
  },
  "cells": [
    {
      "cell_type": "markdown",
      "metadata": {
        "id": "view-in-github",
        "colab_type": "text"
      },
      "source": [
        "<a href=\"https://colab.research.google.com/github/itspritish/nlp/blob/master/Embedding_pretrain_glove.ipynb\" target=\"_parent\"><img src=\"https://colab.research.google.com/assets/colab-badge.svg\" alt=\"Open In Colab\"/></a>"
      ]
    },
    {
      "cell_type": "code",
      "metadata": {
        "id": "C_IahMN6fHol",
        "colab_type": "code",
        "colab": {}
      },
      "source": [
        "import re\n",
        "from keras.preprocessing.sequence import pad_sequences"
      ],
      "execution_count": 0,
      "outputs": []
    },
    {
      "cell_type": "code",
      "metadata": {
        "id": "hyhKV3KMYhEc",
        "colab_type": "code",
        "colab": {}
      },
      "source": [
        "from google.colab import drive\n",
        "drive.mount('/content/drive')"
      ],
      "execution_count": 0,
      "outputs": []
    },
    {
      "cell_type": "code",
      "metadata": {
        "id": "8Gp7g9uSYu7r",
        "colab_type": "code",
        "colab": {}
      },
      "source": [
        "cp drive/My\\ Drive/dataml/glove.6B.50d.txt ."
      ],
      "execution_count": 0,
      "outputs": []
    },
    {
      "cell_type": "code",
      "metadata": {
        "id": "fV1bevKjeq-r",
        "colab_type": "code",
        "colab": {}
      },
      "source": [
        "docs = ['Well done!', 'Good work', 'Great effort', 'nice work', 'Excellent!',\n",
        "        'Weak', 'Poor effort!', 'not good', 'poor work', 'Could have done better.']\n",
        "\n",
        "labels = [1, 1, 1, 1, 1, 0, 0, 0, 0, 0]"
      ],
      "execution_count": 0,
      "outputs": []
    },
    {
      "cell_type": "code",
      "metadata": {
        "id": "kheqenb4ZDI6",
        "colab_type": "code",
        "colab": {}
      },
      "source": [
        "word2index, embedding_matrix = load_glove_embeddings('glove.6B.50d.txt', embedding_dim=50)"
      ],
      "execution_count": 0,
      "outputs": []
    },
    {
      "cell_type": "code",
      "metadata": {
        "id": "0VOeiQtGf5qS",
        "colab_type": "code",
        "colab": {
          "base_uri": "https://localhost:8080/",
          "height": 34
        },
        "outputId": "32153d0b-e9aa-48df-b6ac-588fda94bf86"
      },
      "source": [
        "word2index['well']\n"
      ],
      "execution_count": 28,
      "outputs": [
        {
          "output_type": "execute_result",
          "data": {
            "text/plain": [
              "143"
            ]
          },
          "metadata": {
            "tags": []
          },
          "execution_count": 28
        }
      ]
    },
    {
      "cell_type": "code",
      "metadata": {
        "id": "7I_e-hb3bCGt",
        "colab_type": "code",
        "colab": {}
      },
      "source": [
        "\n",
        "def custom_tokenize(docs):\n",
        "    output_matrix = []\n",
        "    for d in docs:\n",
        "        indices = []\n",
        "        for w in d.split():\n",
        "            indices.append(word2index[re.sub(r'[^\\w\\s]','',w).lower()])\n",
        "        output_matrix.append(indices)\n",
        "    return output_matrix\n",
        "    \n",
        "# Encode docs with our special \"custom_tokenize\" function\n",
        "encoded_docs_ge = custom_tokenize(docs)\n",
        "#print(encoded_docs_ge)"
      ],
      "execution_count": 0,
      "outputs": []
    },
    {
      "cell_type": "code",
      "metadata": {
        "id": "_hrdVLhI7tK3",
        "colab_type": "code",
        "colab": {
          "base_uri": "https://localhost:8080/",
          "height": 34
        },
        "outputId": "386e8afe-0cb8-416d-b820-e34f5aefed73"
      },
      "source": [
        "np.shape(padded_docs_ge)"
      ],
      "execution_count": 30,
      "outputs": [
        {
          "output_type": "execute_result",
          "data": {
            "text/plain": [
              "(10, 5)"
            ]
          },
          "metadata": {
            "tags": []
          },
          "execution_count": 30
        }
      ]
    },
    {
      "cell_type": "code",
      "metadata": {
        "id": "iNppYHaqfCHB",
        "colab_type": "code",
        "colab": {}
      },
      "source": [
        "maxlen = 5\n",
        "padded_docs_ge = pad_sequences(encoded_docs_ge, maxlen=maxlen, padding='post')"
      ],
      "execution_count": 0,
      "outputs": []
    },
    {
      "cell_type": "code",
      "metadata": {
        "id": "44tv9EJgIIHs",
        "colab_type": "code",
        "colab": {}
      },
      "source": [
        "from keras.models import Model\n",
        "from keras.layers import Embedding, Flatten, Dense, Input, Dropout, LSTM\n",
        "\n",
        "embedding_layer = Embedding(input_dim=embedding_matrix.shape[0],\n",
        "                            output_dim=embedding_matrix.shape[1], \n",
        "                            input_length=maxlen,\n",
        "                            weights=[embedding_matrix], \n",
        "                            trainable=False, \n",
        "                            name='embedding_layer')\n",
        "\n",
        "i = Input(shape=(maxlen,), dtype='int32', name='main_input')\n",
        "x = embedding_layer(i)\n",
        "x = LSTM(50,return_sequences=True)(x)\n",
        "x = Flatten()(x)\n",
        "x = Dropout(0.2)(x)\n",
        "x = Dense(64, activation='relu')(x)\n",
        "o = Dense(1, activation='sigmoid')(x)\n",
        "\n",
        "model = Model(inputs=i, outputs=o)"
      ],
      "execution_count": 0,
      "outputs": []
    },
    {
      "cell_type": "code",
      "metadata": {
        "id": "1QLOlCme4Unv",
        "colab_type": "code",
        "colab": {
          "base_uri": "https://localhost:8080/",
          "height": 434
        },
        "outputId": "a9c5cfd5-3373-4609-cbd3-919fd1470c15"
      },
      "source": [
        "model.compile(optimizer='adam', loss='binary_crossentropy', metrics=['acc'])  # Compile the model\n",
        "print(model.summary())  # Summarize the model\n",
        "model.fit(padded_docs_ge, labels, epochs=50, verbose=0)  # Fit the model\n",
        "loss, accuracy = model.evaluate(padded_docs_ge, labels, verbose=0)  # Evaluate the model\n",
        "print('Accuracy: %0.3f' % accuracy)"
      ],
      "execution_count": 61,
      "outputs": [
        {
          "output_type": "stream",
          "text": [
            "Model: \"model_11\"\n",
            "_________________________________________________________________\n",
            "Layer (type)                 Output Shape              Param #   \n",
            "=================================================================\n",
            "main_input (InputLayer)      (None, 5)                 0         \n",
            "_________________________________________________________________\n",
            "embedding_layer (Embedding)  (None, 5, 50)             20000050  \n",
            "_________________________________________________________________\n",
            "lstm_8 (LSTM)                (None, 5, 50)             20200     \n",
            "_________________________________________________________________\n",
            "flatten_15 (Flatten)         (None, 250)               0         \n",
            "_________________________________________________________________\n",
            "dropout_8 (Dropout)          (None, 250)               0         \n",
            "_________________________________________________________________\n",
            "dense_19 (Dense)             (None, 64)                16064     \n",
            "_________________________________________________________________\n",
            "dense_20 (Dense)             (None, 1)                 65        \n",
            "=================================================================\n",
            "Total params: 20,036,379\n",
            "Trainable params: 36,329\n",
            "Non-trainable params: 20,000,050\n",
            "_________________________________________________________________\n",
            "None\n",
            "Accuracy: 1.000\n"
          ],
          "name": "stdout"
        }
      ]
    },
    {
      "cell_type": "code",
      "metadata": {
        "id": "yVwpNtkffCXR",
        "colab_type": "code",
        "colab": {}
      },
      "source": [
        "from keras.models import Model\n",
        "from keras.layers import Embedding, Flatten, Dense, Input\n",
        "\n",
        "embedding_layer = Embedding(input_dim=embedding_matrix.shape[0],\n",
        "                            output_dim=embedding_matrix.shape[1], \n",
        "                            input_length=maxlen,\n",
        "                            weights=[embedding_matrix], \n",
        "                            trainable=False, \n",
        "                            name='embedding_layer')\n",
        "\n",
        "i = Input(shape=(maxlen,), dtype='int32', name='main_input')\n",
        "x = embedding_layer(i)\n",
        "x = Flatten()(x)\n",
        "o = Dense(1, activation='sigmoid')(x)\n",
        "\n",
        "model = Model(inputs=i, outputs=o)\n"
      ],
      "execution_count": 0,
      "outputs": []
    },
    {
      "cell_type": "code",
      "metadata": {
        "id": "gxP9wXH1-c8K",
        "colab_type": "code",
        "colab": {
          "base_uri": "https://localhost:8080/",
          "height": 754
        },
        "outputId": "660d0623-d595-40d2-90d8-42b9f70d09de"
      },
      "source": [
        "from keras.utils.vis_utils import plot_model\n",
        "import matplotlib.pyplot as plt\n",
        "\n",
        "graph = plot_model(model, to_file='my_model.png', show_shapes=True)\n",
        "\n",
        "graph\n"
      ],
      "execution_count": 62,
      "outputs": [
        {
          "output_type": "execute_result",
          "data": {
            "image/png": "[encoded data removed]",
            "text/plain": [
              "<IPython.core.display.Image object>"
            ]
          },
          "metadata": {
            "tags": []
          },
          "execution_count": 62
        }
      ]
    },
    {
      "cell_type": "code",
      "metadata": {
        "id": "JrFweAr2fCiI",
        "colab_type": "code",
        "colab": {
          "base_uri": "https://localhost:8080/",
          "height": 434
        },
        "outputId": "2f6b9afe-4397-45ae-e745-6c9e3cfb8a85"
      },
      "source": [
        "\n",
        "\n",
        "\n"
      ],
      "execution_count": 48,
      "outputs": [
        {
          "output_type": "stream",
          "text": [
            "Model: \"model_5\"\n",
            "_________________________________________________________________\n",
            "Layer (type)                 Output Shape              Param #   \n",
            "=================================================================\n",
            "main_input (InputLayer)      (None, 5)                 0         \n",
            "_________________________________________________________________\n",
            "embedding_layer (Embedding)  (None, 5, 50)             20000050  \n",
            "_________________________________________________________________\n",
            "lstm_5 (LSTM)                (None, 5, 50)             20200     \n",
            "_________________________________________________________________\n",
            "flatten_9 (Flatten)          (None, 250)               0         \n",
            "_________________________________________________________________\n",
            "dropout_6 (Dropout)          (None, 250)               0         \n",
            "_________________________________________________________________\n",
            "dense_11 (Dense)             (None, 64)                16064     \n",
            "_________________________________________________________________\n",
            "dense_12 (Dense)             (None, 1)                 65        \n",
            "=================================================================\n",
            "Total params: 20,036,379\n",
            "Trainable params: 36,329\n",
            "Non-trainable params: 20,000,050\n",
            "_________________________________________________________________\n",
            "None\n",
            "Accuracy: 0.500\n"
          ],
          "name": "stdout"
        }
      ]
    },
    {
      "cell_type": "code",
      "metadata": {
        "id": "6yk3HDFvASeW",
        "colab_type": "code",
        "colab": {
          "base_uri": "https://localhost:8080/",
          "height": 121
        },
        "outputId": "da5f8c2a-ff11-45a0-da3a-84715c27b595"
      },
      "source": [
        "from sklearn.metrics import confusion_matrix\n",
        "\n",
        "\"\"\"docs = ['Well done!', 'Good work', 'Great effort', 'nice work', 'Excellent!',\n",
        "        'Weak', 'Poor effort!', 'not good', 'poor work', 'Could have done better.']\n",
        "\"\"\"\n",
        "docs_test = ['Does not look good', 'that sucks', 'Great effort', 'try more' ]\n",
        "\n",
        "encoded_docs_ge_test = custom_tokenize(docs_test)\n",
        "\n",
        "maxlen = 5\n",
        "padded_docs_ge_test = pad_sequences(encoded_docs_ge_test, maxlen=maxlen, padding='post')\n",
        "\n",
        "labels_test = [0, 0, 1, 0]\n",
        "\n",
        "\n",
        "y_pred = model.predict(padded_docs_ge_test)\n",
        "print(y_pred)\n",
        "y_pred =(y_pred>0.5)\n",
        "list(y_pred)\n",
        "\n",
        "cm = confusion_matrix(labels_test, y_pred)\n",
        "print(cm)\n"
      ],
      "execution_count": 89,
      "outputs": [
        {
          "output_type": "stream",
          "text": [
            "[[0.00198116]\n",
            " [0.12003343]\n",
            " [0.99849844]\n",
            " [0.01032194]]\n",
            "[[3 0]\n",
            " [0 1]]\n"
          ],
          "name": "stdout"
        }
      ]
    },
    {
      "cell_type": "code",
      "metadata": {
        "id": "4hCsI6BNTg_Z",
        "colab_type": "code",
        "colab": {}
      },
      "source": [
        "import numpy as np\n",
        "\"\"\"\n",
        "https://gist.github.com/jovianlin/load_glove_embeddings.py\n",
        "\"\"\"\n",
        "\n",
        "def load_glove_embeddings(fp, embedding_dim, include_empty_char=True):\n",
        "    \"\"\"\n",
        "    Loads pre-trained word embeddings (GloVe embeddings)\n",
        "        Inputs: - fp: filepath of pre-trained glove embeddings\n",
        "                - embedding_dim: dimension of each vector embedding\n",
        "                - generate_matrix: whether to generate an embedding matrix\n",
        "        Outputs:\n",
        "                - word2coefs: Dictionary. Word to its corresponding coefficients\n",
        "                - word2index: Dictionary. Word to word-index\n",
        "                - embedding_matrix: Embedding matrix for Keras Embedding layer\n",
        "    \"\"\"\n",
        "    # First, build the \"word2coefs\" and \"word2index\"\n",
        "    word2coefs = {} # word to its corresponding coefficients\n",
        "    word2index = {} # word to word-index\n",
        "    with open(fp) as f:\n",
        "        for idx, line in enumerate(f):\n",
        "            try:\n",
        "                data = [x.strip().lower() for x in line.split()]\n",
        "                word = data[0]\n",
        "                coefs = np.asarray(data[1:embedding_dim+1], dtype='float32')\n",
        "                word2coefs[word] = coefs\n",
        "                if word not in word2index:\n",
        "                    word2index[word] = len(word2index)\n",
        "            except Exception as e:\n",
        "                print('Exception occurred in `load_glove_embeddings`:', e)\n",
        "                continue\n",
        "        # End of for loop.\n",
        "    # End of with open\n",
        "    if include_empty_char:\n",
        "        word2index[''] = len(word2index)\n",
        "    # Second, build the \"embedding_matrix\"\n",
        "    # Words not found in embedding index will be all-zeros. Hence, the \"+1\".\n",
        "    vocab_size = len(word2coefs)+1 if include_empty_char else len(word2coefs)\n",
        "    embedding_matrix = np.zeros((vocab_size, embedding_dim))\n",
        "    for word, idx in word2index.items():\n",
        "        embedding_vec = word2coefs.get(word)\n",
        "        if embedding_vec is not None and embedding_vec.shape[0]==embedding_dim:\n",
        "            embedding_matrix[idx] = np.asarray(embedding_vec)\n",
        "    # return word2coefs, word2index, embedding_matrix\n",
        "    return word2index, np.asarray(embedding_matrix)"
      ],
      "execution_count": 0,
      "outputs": []
    }
  ]
}